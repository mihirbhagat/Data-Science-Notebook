{
 "cells": [
  {
   "cell_type": "markdown",
   "metadata": {},
   "source": [
    "## Dictionaries"
   ]
  },
  {
   "cell_type": "code",
   "execution_count": 2,
   "metadata": {},
   "outputs": [],
   "source": [
    "#Dictionaries are key-value pairs"
   ]
  },
  {
   "cell_type": "code",
   "execution_count": 3,
   "metadata": {},
   "outputs": [],
   "source": [
    "#Create a dictionary\n",
    "\n",
    "Tom_Brady = {'name': 'Tom Brady', 'team': 'Buccaneers', 'championships': 6}"
   ]
  },
  {
   "cell_type": "code",
   "execution_count": 4,
   "metadata": {},
   "outputs": [
    {
     "data": {
      "text/plain": [
       "{'name': 'Tom Brady', 'team': 'Buccaneers', 'championships': 6}"
      ]
     },
     "execution_count": 4,
     "metadata": {},
     "output_type": "execute_result"
    }
   ],
   "source": [
    "#Call the dictionary\n",
    "\n",
    "Tom_Brady"
   ]
  },
  {
   "cell_type": "markdown",
   "metadata": {},
   "source": [
    "## Add/Remove"
   ]
  },
  {
   "cell_type": "code",
   "execution_count": 5,
   "metadata": {},
   "outputs": [],
   "source": [
    "#Add a key-value pair\n",
    "\n",
    "Tom_Brady['college'] = 'Michigan'"
   ]
  },
  {
   "cell_type": "code",
   "execution_count": 6,
   "metadata": {},
   "outputs": [],
   "source": [
    "#Remove a key-value pair\n",
    "\n",
    "del Tom_Brady['college']"
   ]
  },
  {
   "cell_type": "code",
   "execution_count": 25,
   "metadata": {},
   "outputs": [
    {
     "ename": "KeyError",
     "evalue": "'team'",
     "output_type": "error",
     "traceback": [
      "\u001b[0;31m---------------------------------------------------------------------------\u001b[0m",
      "\u001b[0;31mKeyError\u001b[0m                                  Traceback (most recent call last)",
      "\u001b[0;32m<ipython-input-25-d3b065d68129>\u001b[0m in \u001b[0;36m<module>\u001b[0;34m\u001b[0m\n\u001b[1;32m      1\u001b[0m \u001b[0;31m#Rename a key\u001b[0m\u001b[0;34m\u001b[0m\u001b[0;34m\u001b[0m\u001b[0;34m\u001b[0m\u001b[0m\n\u001b[1;32m      2\u001b[0m \u001b[0;34m\u001b[0m\u001b[0m\n\u001b[0;32m----> 3\u001b[0;31m \u001b[0mTom_Brady\u001b[0m \u001b[0;34m[\u001b[0m\u001b[0;34m'current_team'\u001b[0m\u001b[0;34m]\u001b[0m \u001b[0;34m=\u001b[0m \u001b[0mTom_Brady\u001b[0m\u001b[0;34m.\u001b[0m\u001b[0mpop\u001b[0m \u001b[0;34m(\u001b[0m\u001b[0;34m'team'\u001b[0m\u001b[0;34m)\u001b[0m\u001b[0;34m\u001b[0m\u001b[0;34m\u001b[0m\u001b[0m\n\u001b[0m",
      "\u001b[0;31mKeyError\u001b[0m: 'team'"
     ]
    }
   ],
   "source": [
    "#Rename a key \n",
    "\n",
    "Tom_Brady ['current_team'] = Tom_Brady.pop ('team')"
   ]
  },
  {
   "cell_type": "markdown",
   "metadata": {},
   "source": [
    "## Call Values"
   ]
  },
  {
   "cell_type": "code",
   "execution_count": 7,
   "metadata": {},
   "outputs": [
    {
     "data": {
      "text/plain": [
       "6"
      ]
     },
     "execution_count": 7,
     "metadata": {},
     "output_type": "execute_result"
    }
   ],
   "source": [
    "#Call a specific value\n",
    "\n",
    "Tom_Brady['championships']"
   ]
  },
  {
   "cell_type": "code",
   "execution_count": 9,
   "metadata": {},
   "outputs": [
    {
     "data": {
      "text/plain": [
       "6"
      ]
     },
     "execution_count": 9,
     "metadata": {},
     "output_type": "execute_result"
    }
   ],
   "source": [
    "#Call a specific value using a function\n",
    "\n",
    "def qb_championships(qb):\n",
    "    return qb['championships']\n",
    "\n",
    "qb_championships(Tom_Brady)"
   ]
  },
  {
   "cell_type": "markdown",
   "metadata": {},
   "source": [
    "## Dictionary to List"
   ]
  },
  {
   "cell_type": "code",
   "execution_count": 11,
   "metadata": {},
   "outputs": [],
   "source": [
    "#Make the values of a key a list\n",
    "\n",
    "Tom_Brady ['teams'] = ['Patriots','Buccaneers']"
   ]
  },
  {
   "cell_type": "code",
   "execution_count": 12,
   "metadata": {},
   "outputs": [
    {
     "data": {
      "text/plain": [
       "'Patriots'"
      ]
     },
     "execution_count": 12,
     "metadata": {},
     "output_type": "execute_result"
    }
   ],
   "source": [
    "#Call an item in the list\n",
    "\n",
    "Tom_Brady['teams'][0]"
   ]
  },
  {
   "cell_type": "code",
   "execution_count": 13,
   "metadata": {},
   "outputs": [
    {
     "data": {
      "text/plain": [
       "'Buccaneers'"
      ]
     },
     "execution_count": 13,
     "metadata": {},
     "output_type": "execute_result"
    }
   ],
   "source": [
    "#Set the value of a dictionary to a variable\n",
    "\n",
    "brady_current_team = Tom_Brady['current_team']\n",
    "brady_current_team"
   ]
  },
  {
   "cell_type": "markdown",
   "metadata": {},
   "source": [
    "## Find Keys/Values"
   ]
  },
  {
   "cell_type": "code",
   "execution_count": 14,
   "metadata": {},
   "outputs": [
    {
     "data": {
      "text/plain": [
       "dict_keys(['name', 'championships', 'current_team', 'teams'])"
      ]
     },
     "execution_count": 14,
     "metadata": {},
     "output_type": "execute_result"
    }
   ],
   "source": [
    "#What are the keys in the dictionary \n",
    "\n",
    "Tom_Brady.keys()"
   ]
  },
  {
   "cell_type": "code",
   "execution_count": 15,
   "metadata": {},
   "outputs": [
    {
     "data": {
      "text/plain": [
       "dict_values(['Tom Brady', 6, 'Buccaneers', ['Patriots', 'Buccaneers']])"
      ]
     },
     "execution_count": 15,
     "metadata": {},
     "output_type": "execute_result"
    }
   ],
   "source": [
    "#What are the values in the dictionary\n",
    "\n",
    "Tom_Brady.values()"
   ]
  },
  {
   "cell_type": "code",
   "execution_count": 16,
   "metadata": {},
   "outputs": [
    {
     "name": "stdout",
     "output_type": "stream",
     "text": [
      "this is the key: name\n",
      "this is the value: Tom Brady \n",
      "\n",
      "this is the key: championships\n",
      "this is the value: 6 \n",
      "\n",
      "this is the key: current_team\n",
      "this is the value: Buccaneers \n",
      "\n",
      "this is the key: teams\n",
      "this is the value: ['Patriots', 'Buccaneers'] \n",
      "\n"
     ]
    }
   ],
   "source": [
    "#For loop for key, value\n",
    "\n",
    "for key, value in Tom_Brady.items():\n",
    "    print(\"this is the key:\", key)    \n",
    "    print(\"this is the value:\", value, \"\\n\")"
   ]
  },
  {
   "cell_type": "code",
   "execution_count": 17,
   "metadata": {},
   "outputs": [
    {
     "data": {
      "text/plain": [
       "6"
      ]
     },
     "execution_count": 17,
     "metadata": {},
     "output_type": "execute_result"
    }
   ],
   "source": [
    "#For loop for assigning values to variables\n",
    "\n",
    "for key, value in Tom_Brady.items():\n",
    "    if key == \"championships\":\n",
    "        brady_championships = value\n",
    "\n",
    "brady_championships"
   ]
  },
  {
   "cell_type": "code",
   "execution_count": 18,
   "metadata": {},
   "outputs": [],
   "source": [
    "#Create a 2nd dictionary\n",
    "\n",
    "Jimmy_Garoppolo = {'name': 'Jimmy Garoppolo', 'current_team': '49ers', 'championships': 0, 'teams': ['Patriots, 49ers']}"
   ]
  },
  {
   "cell_type": "markdown",
   "metadata": {},
   "source": [
    "## Nested Dictionary"
   ]
  },
  {
   "cell_type": "code",
   "execution_count": 19,
   "metadata": {},
   "outputs": [],
   "source": [
    "#Create a nested dictionary\n",
    "\n",
    "Patriots_QB = [Tom_Brady, Jimmy_Garoppolo]"
   ]
  },
  {
   "cell_type": "code",
   "execution_count": 20,
   "metadata": {},
   "outputs": [
    {
     "data": {
      "text/plain": [
       "[{'name': 'Tom Brady',\n",
       "  'championships': 6,\n",
       "  'current_team': 'Buccaneers',\n",
       "  'teams': ['Patriots', 'Buccaneers']},\n",
       " {'name': 'Jimmy Garoppolo',\n",
       "  'current_team': '49ers',\n",
       "  'championships': 0,\n",
       "  'teams': ['Patriots, 49ers']}]"
      ]
     },
     "execution_count": 20,
     "metadata": {},
     "output_type": "execute_result"
    }
   ],
   "source": [
    "Patriots_QB"
   ]
  },
  {
   "cell_type": "code",
   "execution_count": 21,
   "metadata": {},
   "outputs": [
    {
     "data": {
      "text/plain": [
       "2"
      ]
     },
     "execution_count": 21,
     "metadata": {},
     "output_type": "execute_result"
    }
   ],
   "source": [
    "#How many dictionaries in the nested dictionary\n",
    "\n",
    "len(Patriots_QB)"
   ]
  },
  {
   "cell_type": "code",
   "execution_count": 22,
   "metadata": {},
   "outputs": [
    {
     "data": {
      "text/plain": [
       "'Tom Brady'"
      ]
     },
     "execution_count": 22,
     "metadata": {},
     "output_type": "execute_result"
    }
   ],
   "source": [
    "#Access the nested dictionary\n",
    "\n",
    "Patriots_QB[0]['name']"
   ]
  },
  {
   "cell_type": "code",
   "execution_count": 23,
   "metadata": {},
   "outputs": [
    {
     "data": {
      "text/plain": [
       "[{'name': 'Tom Brady',\n",
       "  'championships': 6,\n",
       "  'current_team': 'Buccaneers',\n",
       "  'teams': ['Patriots', 'Buccaneers']},\n",
       " {'name': 'Jimmy Garoppolo',\n",
       "  'current_team': '49ers',\n",
       "  'championships': 1,\n",
       "  'teams': ['Patriots, 49ers']}]"
      ]
     },
     "execution_count": 23,
     "metadata": {},
     "output_type": "execute_result"
    }
   ],
   "source": [
    "#Change value in nested dictionary \n",
    "\n",
    "Patriots_QB[1]['championships'] = 1\n",
    "\n",
    "Patriots_QB"
   ]
  },
  {
   "cell_type": "code",
   "execution_count": 24,
   "metadata": {},
   "outputs": [
    {
     "data": {
      "text/plain": [
       "True"
      ]
     },
     "execution_count": 24,
     "metadata": {},
     "output_type": "execute_result"
    }
   ],
   "source": [
    "#Function to compare 2 items in a dictionary\n",
    "\n",
    "def is_better(qb, alternative):\n",
    "    if qb['championships'] > alternative['championships']:\n",
    "        return True\n",
    "    return False\n",
    "\n",
    "is_better(Tom_Brady,Jimmy_Garoppolo)"
   ]
  }
 ],
 "metadata": {
  "kernelspec": {
   "display_name": "Python 3",
   "language": "python",
   "name": "python3"
  },
  "language_info": {
   "codemirror_mode": {
    "name": "ipython",
    "version": 3
   },
   "file_extension": ".py",
   "mimetype": "text/x-python",
   "name": "python",
   "nbconvert_exporter": "python",
   "pygments_lexer": "ipython3",
   "version": "3.7.6"
  }
 },
 "nbformat": 4,
 "nbformat_minor": 4
}
