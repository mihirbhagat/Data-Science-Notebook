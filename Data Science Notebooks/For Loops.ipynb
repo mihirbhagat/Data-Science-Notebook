{
 "cells": [
  {
   "cell_type": "code",
   "execution_count": 1,
   "metadata": {},
   "outputs": [
    {
     "name": "stdout",
     "output_type": "stream",
     "text": [
      "0\n",
      "1\n",
      "2\n",
      "3\n",
      "4\n",
      "5\n",
      "6\n",
      "7\n",
      "8\n",
      "9\n"
     ]
    }
   ],
   "source": [
    "#Print numbers in a range\n",
    "\n",
    "for i in range(0,10):\n",
    "    print(i)"
   ]
  },
  {
   "cell_type": "code",
   "execution_count": 17,
   "metadata": {},
   "outputs": [
    {
     "name": "stdout",
     "output_type": "stream",
     "text": [
      "Lamar Jackson\n",
      "Tom Brady\n",
      "Patrick Mahomes\n"
     ]
    }
   ],
   "source": [
    "#For when you don't know how long a list is\n",
    "\n",
    "NFL_QB = ['Lamar Jackson', 'Tom Brady', 'Patrick Mahomes']\n",
    "\n",
    "list(range(0,len(NFL_QB)))\n",
    "\n",
    "for i in list(range(0,len(NFL_QB))):\n",
    "    print (NFL_QB[i])"
   ]
  },
  {
   "cell_type": "code",
   "execution_count": 31,
   "metadata": {},
   "outputs": [
    {
     "data": {
      "text/plain": [
       "['Lamar Jackson']"
      ]
     },
     "execution_count": 31,
     "metadata": {},
     "output_type": "execute_result"
    }
   ],
   "source": [
    "#For adding to a list\n",
    "\n",
    "qb_list = []\n",
    "for qb in NFL_QB:\n",
    "    if qb.endswith('Jackson'):\n",
    "        qb_list.append(qb)\n",
    "qb_list"
   ]
  },
  {
   "cell_type": "code",
   "execution_count": 29,
   "metadata": {},
   "outputs": [
    {
     "name": "stdout",
     "output_type": "stream",
     "text": [
      "1 New York\n",
      "2 San Francisco\n",
      "3 Los Angeles\n"
     ]
    }
   ],
   "source": [
    "#For rankings \n",
    "\n",
    "for index, city in enumerate(cities):\n",
    "    print(index + 1,city)"
   ]
  },
  {
   "cell_type": "code",
   "execution_count": null,
   "metadata": {},
   "outputs": [],
   "source": []
  }
 ],
 "metadata": {
  "kernelspec": {
   "display_name": "Python 3",
   "language": "python",
   "name": "python3"
  },
  "language_info": {
   "codemirror_mode": {
    "name": "ipython",
    "version": 3
   },
   "file_extension": ".py",
   "mimetype": "text/x-python",
   "name": "python",
   "nbconvert_exporter": "python",
   "pygments_lexer": "ipython3",
   "version": "3.7.6"
  }
 },
 "nbformat": 4,
 "nbformat_minor": 4
}
