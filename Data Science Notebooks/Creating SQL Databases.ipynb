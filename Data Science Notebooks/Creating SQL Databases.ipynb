{
 "cells": [
  {
   "cell_type": "code",
   "execution_count": 1,
   "metadata": {},
   "outputs": [],
   "source": [
    "#Create a database \n",
    "\n",
    "import sqlite3 \n",
    "conn = sqlite3.connect('pets_database.db')\n",
    "cur = conn.cursor()"
   ]
  },
  {
   "cell_type": "code",
   "execution_count": 2,
   "metadata": {},
   "outputs": [
    {
     "name": "stdout",
     "output_type": "stream",
     "text": [
      "Basic Python.ipynb               Missing Data.ipynb\n",
      "Creating SQL Databases.ipynb     Numpy.ipynb\n",
      "\u001b[34mData\u001b[m\u001b[m/                            Pandas - Pivot Tables.ipynb\n",
      "DateTime.ipynb                   Pandas.ipynb\n",
      "Dictionaries.ipynb               SQL.ipynb\n",
      "For Loops.ipynb                  Slicing.ipynb\n",
      "Functions.ipynb                  Staistics in Pandas.ipynb\n",
      "Lambda Functions for Text.ipynb  Visualizations.ipynb\n",
      "Lists.ipynb                      data.sqlite\n",
      "Merge DataFrames.ipynb           pets_database.db\n"
     ]
    }
   ],
   "source": [
    "ls"
   ]
  },
  {
   "cell_type": "code",
   "execution_count": 3,
   "metadata": {},
   "outputs": [
    {
     "data": {
      "text/plain": [
       "<sqlite3.Cursor at 0x107cfb730>"
      ]
     },
     "execution_count": 3,
     "metadata": {},
     "output_type": "execute_result"
    }
   ],
   "source": [
    "#Create a table \n",
    "\n",
    "cur.execute(\"\"\"CREATE TABLE cats (\n",
    "                                id INTEGER PRIMARY KEY,\n",
    "                                name TEXT,\n",
    "                                age INTEGER,\n",
    "                                breed TEXT )\n",
    "            \"\"\")"
   ]
  },
  {
   "cell_type": "code",
   "execution_count": 4,
   "metadata": {},
   "outputs": [
    {
     "data": {
      "text/plain": [
       "<sqlite3.Cursor at 0x107cfb730>"
      ]
     },
     "execution_count": 4,
     "metadata": {},
     "output_type": "execute_result"
    }
   ],
   "source": [
    "#Insert info \n",
    "\n",
    "cur.execute('''INSERT INTO cats (name, age, breed) \n",
    "                  VALUES ('Maru', 3, 'Scottish Fold');\n",
    "            ''')"
   ]
  },
  {
   "cell_type": "code",
   "execution_count": 9,
   "metadata": {},
   "outputs": [
    {
     "data": {
      "text/plain": [
       "<sqlite3.Cursor at 0x107cfb730>"
      ]
     },
     "execution_count": 9,
     "metadata": {},
     "output_type": "execute_result"
    }
   ],
   "source": [
    "#Update\n",
    "\n",
    "cur.execute('''UPDATE cats SET name = \"Hana\" WHERE name = \"Hannah\";''')"
   ]
  },
  {
   "cell_type": "code",
   "execution_count": 10,
   "metadata": {},
   "outputs": [
    {
     "data": {
      "text/plain": [
       "<sqlite3.Cursor at 0x107cfb730>"
      ]
     },
     "execution_count": 10,
     "metadata": {},
     "output_type": "execute_result"
    }
   ],
   "source": [
    "#Delete\n",
    "\n",
    "cur.execute('''DELETE FROM cats WHERE id = 2;''')"
   ]
  },
  {
   "cell_type": "code",
   "execution_count": 12,
   "metadata": {},
   "outputs": [],
   "source": [
    "#Commit changes\n",
    "\n",
    "conn.commit()"
   ]
  },
  {
   "cell_type": "code",
   "execution_count": 13,
   "metadata": {},
   "outputs": [
    {
     "data": {
      "text/plain": [
       "[(1, 'Maru', 3, 'Scottish Fold')]"
      ]
     },
     "execution_count": 13,
     "metadata": {},
     "output_type": "execute_result"
    }
   ],
   "source": [
    "cur.execute(\"\"\"SELECT * FROM cats;\"\"\").fetchall()"
   ]
  },
  {
   "cell_type": "code",
   "execution_count": null,
   "metadata": {},
   "outputs": [],
   "source": []
  }
 ],
 "metadata": {
  "kernelspec": {
   "display_name": "Python 3",
   "language": "python",
   "name": "python3"
  },
  "language_info": {
   "codemirror_mode": {
    "name": "ipython",
    "version": 3
   },
   "file_extension": ".py",
   "mimetype": "text/x-python",
   "name": "python",
   "nbconvert_exporter": "python",
   "pygments_lexer": "ipython3",
   "version": "3.7.6"
  }
 },
 "nbformat": 4,
 "nbformat_minor": 4
}
