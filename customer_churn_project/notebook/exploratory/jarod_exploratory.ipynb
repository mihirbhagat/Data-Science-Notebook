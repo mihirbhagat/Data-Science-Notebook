{
 "cells": [
  {
   "cell_type": "code",
<<<<<<< HEAD
   "execution_count": 54,
=======
   "execution_count": 3,
>>>>>>> 2a690d6535135ae83e27c4b15656a6893547b062
   "metadata": {},
   "outputs": [],
   "source": [
    "import pickle\n",
    "import numpy as np\n",
    "import pandas as pd\n",
    "from sklearn.linear_model import LogisticRegression\n",
    "from sklearn.neighbors import KNeighborsClassifier\n",
    "from sklearn.ensemble import RandomForestClassifier, StackingClassifier, GradientBoostingClassifier, ExtraTreesClassifier\n",
    "from sklearn.preprocessing import StandardScaler, OneHotEncoder\n",
    "from sklearn.model_selection import cross_val_score, train_test_split\n",
    "from sklearn.metrics import accuracy_score, precision_score, recall_score, f1_score, confusion_matrix\n",
    "\n",
    "\n",
    "\n",
    "file_name = '../../data/Customer Churn Data.csv'\n",
    "\n",
    "def pipeline():\n",
    "    X_train, X_test, y_train, y_test = get_train_and_test_data()\n",
    "    scaler = make_scaler(X_train)\n",
    "    X_train_scaled = scaler.transform(X_train)\n",
    "    X_test_scaled = scaler.transform(X_test)\n",
    "    model = make_model(X_train_scaled, y_train)\n",
    "    pickler(model, 'model.pickle')\n",
    "    pickler(scaler, 'scaler.pickle')\n",
    "\n",
    "    \n",
    "def get_train_and_test_data():\n",
    "    '''\n",
    "    Returns testing and training data\n",
    "    '''\n",
    "    data = get_data()\n",
    "    return split_data(data)\n",
    "    \n",
    "    \n",
    "def get_data():\n",
    "    '''\n",
    "    Gets data from datafile and does some pruning.\n",
    "    Drops columns that worsen the model and agregates the charges columns (This helps the model)\n",
    "    \n",
    "    Returns\n",
    "    -------\n",
    "    Returns the data frame to be used in making the model\n",
    "    '''\n",
    "    df = pd.read_csv(file_name)\n",
    "    \n",
    "    df['international plan'] = (df['international plan'] == 'yes').astype(int)\n",
    "    df['voice mail plan'] = (df['voice mail plan'] == 'yes').astype(int)\n",
    "\n",
    "    df['total charge'] = df['total day charge'] + df['total eve charge'] + df['total intl charge'] + df['total night charge']\n",
    "    df = df.drop(['total day charge', 'total eve charge', 'total intl charge', 'total night charge'], axis = 1)\n",
    "    \n",
    "    df = df.drop(['area code', 'phone number', 'state'], axis = 1)\n",
    "    return df\n",
    "    \n",
    "    \n",
    "def split_data(data):\n",
    "    '''\n",
    "    Does a train test split on the passed in with churn as the target\n",
    "    \n",
    "    Parameters\n",
    "    ----------\n",
    "    data: churn data to be split\n",
    "    \n",
    "    Returns\n",
    "    -------\n",
    "    Training predictors, test predictor, training target, test target\n",
    "    '''\n",
    "    target = data['churn']\n",
    "    X = data.copy()\n",
    "    X = X.drop(['churn'], axis = 1)\n",
    "    return train_test_split(X, target, test_size = 0.30, random_state = 42)\n",
    "    \n",
    "\n",
    "def make_scaler(X_train):\n",
    "    '''\n",
    "    Returns a standard scaler fit to X_train\n",
    "    '''\n",
    "    ss = StandardScaler()\n",
    "    ss.fit(X_train)\n",
    "    return ss\n",
    "    \n",
    "\n",
    "def make_model(X_train, y_train):\n",
    "    '''\n",
    "    fits and returns a stacking model based on the data passed in\n",
    "    '''\n",
    "    estimators = [('rf', RandomForestClassifier()),\n",
    "                  ('log', LogisticRegression(solver = 'liblinear')),\n",
    "                  ('grad', GradientBoostingClassifier())]\n",
    "    stack = StackingClassifier(estimators = estimators, final_estimator = LogisticRegression(), cv = 5)\n",
    "    stack.fit(X_train, y_train)\n",
    "    return stack    \n",
    "    \n",
    "\n",
    "def metrics(y_true, y_pred):\n",
    "    '''\n",
    "    returns some metrics\n",
    "    '''\n",
    "    metric_dictionary = {}\n",
    "    metric_dictionary['Accuracy'] = str(accuracy_score(y_true, y_pred))\n",
    "    metric_dictionary['Precision'] = str(precision_score(y_true, y_pred))\n",
    "    metric_dictionary['Recall'] = str(recall_score(y_true, y_pred))\n",
    "    metric_dictionary['F1'] = str(f1_score(y_true, y_pred))\n",
    "    metric_dictionary['confusion_matrix'] = confusion_matrix(y_true, y_pred)\n",
    "    return metric_dictionary    \n",
    "    \n",
    "    \n",
    "def pickler(model, file_name):\n",
    "    '''\n",
    "    turns a model into a pickle file\n",
    "    '''\n",
    "    output_file = open(file_name, 'wb')\n",
    "    pickle.dump(model, output_file)\n",
    "    output_file.close()\n",
    "\n",
    "    \n",
    "def read_pickle(file_name):\n",
    "    '''\n",
    "    reads a pickle file\n",
    "    '''\n",
    "    model_file = open(file_name, \"rb\")\n",
    "    model = pickle.load(model_file)\n",
    "    model_file.close()\n",
    "    return model"
   ]
  },
  {
   "cell_type": "code",
<<<<<<< HEAD
   "execution_count": 55,
   "metadata": {},
   "outputs": [],
   "source": [
    "pipeline()"
   ]
  },
  {
   "cell_type": "code",
   "execution_count": 256,
=======
   "execution_count": 4,
>>>>>>> 2a690d6535135ae83e27c4b15656a6893547b062
   "metadata": {},
   "outputs": [
    {
     "data": {
      "text/html": [
       "<div>\n",
       "<style scoped>\n",
       "    .dataframe tbody tr th:only-of-type {\n",
       "        vertical-align: middle;\n",
       "    }\n",
       "\n",
       "    .dataframe tbody tr th {\n",
       "        vertical-align: top;\n",
       "    }\n",
       "\n",
       "    .dataframe thead th {\n",
       "        text-align: right;\n",
       "    }\n",
       "</style>\n",
       "<table border=\"1\" class=\"dataframe\">\n",
       "  <thead>\n",
       "    <tr style=\"text-align: right;\">\n",
       "      <th></th>\n",
       "      <th>account length</th>\n",
       "      <th>area code</th>\n",
       "      <th>phone number</th>\n",
       "      <th>international plan</th>\n",
       "      <th>voice mail plan</th>\n",
       "      <th>number vmail messages</th>\n",
       "      <th>total day minutes</th>\n",
       "      <th>total day calls</th>\n",
       "      <th>total eve minutes</th>\n",
       "      <th>total eve calls</th>\n",
       "      <th>total night minutes</th>\n",
       "      <th>total night calls</th>\n",
       "      <th>total intl minutes</th>\n",
       "      <th>total intl calls</th>\n",
       "      <th>customer service calls</th>\n",
       "      <th>churn</th>\n",
       "      <th>total charge</th>\n",
       "    </tr>\n",
       "  </thead>\n",
       "  <tbody>\n",
       "    <tr>\n",
       "      <th>0</th>\n",
       "      <td>128</td>\n",
       "      <td>415</td>\n",
       "      <td>382-4657</td>\n",
       "      <td>0</td>\n",
       "      <td>1</td>\n",
       "      <td>25</td>\n",
       "      <td>265.1</td>\n",
       "      <td>110</td>\n",
       "      <td>197.4</td>\n",
       "      <td>99</td>\n",
       "      <td>244.7</td>\n",
       "      <td>91</td>\n",
       "      <td>10.0</td>\n",
       "      <td>3</td>\n",
       "      <td>1</td>\n",
       "      <td>False</td>\n",
       "      <td>75.56</td>\n",
       "    </tr>\n",
       "    <tr>\n",
       "      <th>1</th>\n",
       "      <td>107</td>\n",
       "      <td>415</td>\n",
       "      <td>371-7191</td>\n",
       "      <td>0</td>\n",
       "      <td>1</td>\n",
       "      <td>26</td>\n",
       "      <td>161.6</td>\n",
       "      <td>123</td>\n",
       "      <td>195.5</td>\n",
       "      <td>103</td>\n",
       "      <td>254.4</td>\n",
       "      <td>103</td>\n",
       "      <td>13.7</td>\n",
       "      <td>3</td>\n",
       "      <td>1</td>\n",
       "      <td>False</td>\n",
       "      <td>59.24</td>\n",
       "    </tr>\n",
       "    <tr>\n",
       "      <th>2</th>\n",
       "      <td>137</td>\n",
       "      <td>415</td>\n",
       "      <td>358-1921</td>\n",
       "      <td>0</td>\n",
       "      <td>0</td>\n",
       "      <td>0</td>\n",
       "      <td>243.4</td>\n",
       "      <td>114</td>\n",
       "      <td>121.2</td>\n",
       "      <td>110</td>\n",
       "      <td>162.6</td>\n",
       "      <td>104</td>\n",
       "      <td>12.2</td>\n",
       "      <td>5</td>\n",
       "      <td>0</td>\n",
       "      <td>False</td>\n",
       "      <td>62.29</td>\n",
       "    </tr>\n",
       "    <tr>\n",
       "      <th>3</th>\n",
       "      <td>84</td>\n",
       "      <td>408</td>\n",
       "      <td>375-9999</td>\n",
       "      <td>1</td>\n",
       "      <td>0</td>\n",
       "      <td>0</td>\n",
       "      <td>299.4</td>\n",
       "      <td>71</td>\n",
       "      <td>61.9</td>\n",
       "      <td>88</td>\n",
       "      <td>196.9</td>\n",
       "      <td>89</td>\n",
       "      <td>6.6</td>\n",
       "      <td>7</td>\n",
       "      <td>2</td>\n",
       "      <td>False</td>\n",
       "      <td>66.80</td>\n",
       "    </tr>\n",
       "    <tr>\n",
       "      <th>4</th>\n",
       "      <td>75</td>\n",
       "      <td>415</td>\n",
       "      <td>330-6626</td>\n",
       "      <td>1</td>\n",
       "      <td>0</td>\n",
       "      <td>0</td>\n",
       "      <td>166.7</td>\n",
       "      <td>113</td>\n",
       "      <td>148.3</td>\n",
       "      <td>122</td>\n",
       "      <td>186.9</td>\n",
       "      <td>121</td>\n",
       "      <td>10.1</td>\n",
       "      <td>3</td>\n",
       "      <td>3</td>\n",
       "      <td>False</td>\n",
       "      <td>52.09</td>\n",
       "    </tr>\n",
       "  </tbody>\n",
       "</table>\n",
       "</div>"
      ],
      "text/plain": [
       "   account length  area code phone number  international plan  \\\n",
       "0             128        415     382-4657                   0   \n",
       "1             107        415     371-7191                   0   \n",
       "2             137        415     358-1921                   0   \n",
       "3              84        408     375-9999                   1   \n",
       "4              75        415     330-6626                   1   \n",
       "\n",
       "   voice mail plan  number vmail messages  total day minutes  total day calls  \\\n",
       "0                1                     25              265.1              110   \n",
       "1                1                     26              161.6              123   \n",
       "2                0                      0              243.4              114   \n",
       "3                0                      0              299.4               71   \n",
       "4                0                      0              166.7              113   \n",
       "\n",
       "   total eve minutes  total eve calls  total night minutes  total night calls  \\\n",
       "0              197.4               99                244.7                 91   \n",
       "1              195.5              103                254.4                103   \n",
       "2              121.2              110                162.6                104   \n",
       "3               61.9               88                196.9                 89   \n",
       "4              148.3              122                186.9                121   \n",
       "\n",
       "   total intl minutes  total intl calls  customer service calls  churn  \\\n",
       "0                10.0                 3                       1  False   \n",
       "1                13.7                 3                       1  False   \n",
       "2                12.2                 5                       0  False   \n",
       "3                 6.6                 7                       2  False   \n",
       "4                10.1                 3                       3  False   \n",
       "\n",
       "   total charge  \n",
       "0         75.56  \n",
       "1         59.24  \n",
       "2         62.29  \n",
       "3         66.80  \n",
       "4         52.09  "
      ]
     },
<<<<<<< HEAD
     "execution_count": 256,
=======
     "execution_count": 4,
>>>>>>> 2a690d6535135ae83e27c4b15656a6893547b062
     "metadata": {},
     "output_type": "execute_result"
    }
   ],
   "source": [
    "df = pd.read_csv('../../data/Customer Churn Data.csv')\n",
    "df['international plan'] = (df['international plan'] == 'yes').astype(int)\n",
    "df['voice mail plan'] = (df['voice mail plan'] == 'yes').astype(int)\n",
    "\n",
    "#ohe = OneHotEncoder(sparse = False)\n",
    "#ohe_states = pd.DataFrame(ohe.fit_transform(pd.DataFrame(df['state'])), columns = ohe.get_feature_names())\n",
    "#df = pd.concat([df, ohe_states], axis = 1)\n",
    "df = df.drop(['state'], axis = 1)\n",
    "\n",
    "df['total charge'] = df['total day charge'] + df['total eve charge'] + df['total intl charge'] + df['total night charge']\n",
    "df = df.drop(['total day charge', 'total eve charge', 'total intl charge', 'total night charge'], axis = 1)\n",
    "\n",
    "df.head()"
   ]
  },
  {
   "cell_type": "code",
   "execution_count": 257,
   "metadata": {},
   "outputs": [],
   "source": [
    "y = df['churn']\n",
    "X = df.copy()\n",
    "X = X.drop(['churn', 'area code', 'phone number'], axis = 1)"
   ]
  },
  {
   "cell_type": "code",
   "execution_count": 474,
   "metadata": {},
   "outputs": [],
   "source": [
    "def metrics(y_true, y_pred):\n",
    "    metric_dictionary = {}\n",
    "    metric_dictionary['Accuracy'] = str(accuracy_score(y_true, y_pred))\n",
    "    metric_dictionary['Precision'] = str(precision_score(y_true, y_pred))\n",
    "    metric_dictionary['Recall'] = str(recall_score(y_true, y_pred))\n",
    "    metric_dictionary['F1'] = str(f1_score(y_true, y_pred))\n",
    "    return metric_dictionary\n",
    "    \n",
    "def make_model(X_train, y_train):\n",
    "    estimators = [('rf', RandomForestClassifier()),\n",
    "                  ('log', LogisticRegression(solver = 'liblinear')),\n",
    "                  ('grad', GradientBoostingClassifier())]\n",
    "    stack = StackingClassifier(estimators = estimators, final_estimator = LogisticRegression(), cv = 5)\n",
    "    stack.fit(X_train, y_train)\n",
    "    return stack\n",
    "\n",
    "X_train_full, X_holdout, y_train_full, y_holdout = train_test_split(X, y, test_size = 0.30, random_state = 42)\n",
    "X_train, X_test, y_train, y_test = train_test_split(X_train_full, y_train_full, test_size = 0.30)\n",
    "\n",
    "ss = StandardScaler()\n",
    "X_train = ss.fit_transform(X_train)\n",
    "X_test = ss.transform(X_test)"
   ]
  },
  {
   "cell_type": "code",
   "execution_count": 475,
   "metadata": {},
   "outputs": [
    {
     "name": "stdout",
     "output_type": "stream",
     "text": [
      "Accuracy: 0.9771428571428571\n",
      "Precision: 0.9880952380952381\n",
      "Recall: 0.8469387755102041\n",
      "F1: 0.9120879120879121\n"
     ]
    },
    {
     "data": {
      "text/plain": [
       "array([[601,   1],\n",
       "       [ 15,  83]])"
      ]
     },
     "execution_count": 475,
     "metadata": {},
     "output_type": "execute_result"
    }
   ],
   "source": [
    "model = make_model(X_train1, X_test1, y_train1, y_test1)\n",
    "y_hat_test = model.predict(X_test1)\n",
    "metrics(y_test1, y_hat_test)\n",
    "confusion_matrix(y_test1, y_hat_test)"
   ]
  },
  {
   "cell_type": "code",
   "execution_count": 476,
   "metadata": {},
   "outputs": [
    {
     "name": "stdout",
     "output_type": "stream",
     "text": [
      "Accuracy: 0.9742857142857143\n",
      "Precision: 1.0\n",
      "Recall: 0.8163265306122449\n",
      "F1: 0.898876404494382\n",
      "Accuracy: 0.8557142857142858\n",
      "Precision: 0.46938775510204084\n",
      "Recall: 0.23469387755102042\n",
      "F1: 0.3129251700680272\n",
      "Accuracy: 0.9742857142857143\n",
      "Precision: 0.9878048780487805\n",
      "Recall: 0.826530612244898\n",
      "F1: 0.9\n"
     ]
    }
   ],
   "source": [
    "for i in model.estimators_:\n",
    "    metrics(y_test1, i.predict(X_test1))"
   ]
  },
  {
   "cell_type": "code",
   "execution_count": null,
   "metadata": {},
   "outputs": [],
   "source": []
  },
  {
   "cell_type": "code",
   "execution_count": null,
   "metadata": {},
   "outputs": [],
   "source": []
  },
  {
   "cell_type": "code",
   "execution_count": 466,
   "metadata": {},
   "outputs": [],
   "source": [
    "def pickler(model, file_name):\n",
    "    output_file = open(file_name, 'wb')\n",
    "    pickle.dump(model, output_file)\n",
    "    output_file.close()\n",
    "\n",
    "def read_pickle(file_name):\n",
    "    model_file = open(file_name, \"rb\")\n",
    "    model = pickle.load(model_file)\n",
    "    model_file.close()\n",
    "    return model"
   ]
  },
  {
   "cell_type": "code",
   "execution_count": 479,
   "metadata": {},
   "outputs": [],
   "source": [
    "pickler(model, 'model.pickle')\n",
    "pickler(ss, 'scaler.pickle')"
   ]
  },
  {
   "cell_type": "code",
   "execution_count": 480,
   "metadata": {},
   "outputs": [],
   "source": [
    "loaded_model = read_pickle('model.pickle')\n",
    "scaler = read_pickle('scaler.pickle')"
   ]
  },
  {
   "cell_type": "code",
   "execution_count": 469,
   "metadata": {},
   "outputs": [
    {
     "name": "stdout",
     "output_type": "stream",
     "text": [
      "Accuracy: 0.9728571428571429\n",
      "Precision: 1.0\n",
      "Recall: 0.8256880733944955\n",
      "F1: 0.9045226130653267\n"
     ]
    }
   ],
   "source": [
    "metrics(y_test1, loaded_model.predict(X_test1));"
   ]
  },
  {
   "cell_type": "code",
<<<<<<< HEAD
   "execution_count": 43,
=======
   "execution_count": 1,
   "metadata": {},
   "outputs": [
    {
     "ename": "NameError",
     "evalue": "name 'df' is not defined",
     "output_type": "error",
     "traceback": [
      "\u001b[0;31m---------------------------------------------------------------------------\u001b[0m",
      "\u001b[0;31mNameError\u001b[0m                                 Traceback (most recent call last)",
      "\u001b[0;32m<ipython-input-1-00cf07b74dcd>\u001b[0m in \u001b[0;36m<module>\u001b[0;34m\u001b[0m\n\u001b[0;32m----> 1\u001b[0;31m \u001b[0mdf\u001b[0m\u001b[0;34m\u001b[0m\u001b[0;34m\u001b[0m\u001b[0m\n\u001b[0m",
      "\u001b[0;31mNameError\u001b[0m: name 'df' is not defined"
     ]
    }
   ],
   "source": [
    "df"
   ]
  },
  {
   "cell_type": "code",
   "execution_count": null,
>>>>>>> 2a690d6535135ae83e27c4b15656a6893547b062
   "metadata": {},
   "outputs": [
    {
     "data": {
      "text/plain": [
       "<BarContainer object of 51 artists>"
      ]
     },
     "execution_count": 43,
     "metadata": {},
     "output_type": "execute_result"
    },
    {
     "data": {
      "image/png": "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\n",
      "text/plain": [
       "<Figure size 1440x720 with 1 Axes>"
      ]
     },
     "metadata": {
      "needs_background": "light"
     },
     "output_type": "display_data"
    }
   ],
   "source": [
    "import matplotlib.pyplot as plt\n",
    "%matplotlib inline\n",
    "\n",
    "df = pd.read_csv(file_name)\n",
    "df = df[['state', 'churn']]\n",
    "a = df.groupby(by = 'state').mean().sort_values(by = 'churn')\n",
    "\n",
    "plt.figure(figsize = (20, 10))\n",
    "plt.bar(a.index, a['churn'])"
   ]
  }
 ],
 "metadata": {
  "kernelspec": {
   "display_name": "Python (customerchurn)",
   "language": "python",
   "name": "customerchurn"
  },
  "language_info": {
   "codemirror_mode": {
    "name": "ipython",
    "version": 3
   },
   "file_extension": ".py",
   "mimetype": "text/x-python",
   "name": "python",
   "nbconvert_exporter": "python",
   "pygments_lexer": "ipython3",
   "version": "3.8.2"
  }
 },
 "nbformat": 4,
 "nbformat_minor": 4
}
