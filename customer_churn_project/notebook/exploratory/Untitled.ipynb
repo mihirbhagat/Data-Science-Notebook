{
 "cells": [
  {
   "cell_type": "code",
   "execution_count": 1,
   "metadata": {},
   "outputs": [],
   "source": [
    "import pickle\n",
    "import numpy as np\n",
    "import pandas as pd\n",
    "from sklearn.linear_model import LogisticRegression\n",
    "from sklearn.neighbors import KNeighborsClassifier\n",
    "from sklearn.ensemble import RandomForestClassifier, StackingClassifier, GradientBoostingClassifier, ExtraTreesClassifier\n",
    "from sklearn.preprocessing import StandardScaler, OneHotEncoder\n",
    "from sklearn.model_selection import cross_val_score, train_test_split\n",
    "from sklearn.metrics import accuracy_score, precision_score, recall_score, f1_score, confusion_matrix\n",
    "\n",
    "file_name = '../../data/Customer Churn Data.csv'\n",
    "\n",
    "def pipeline(pickle = True):\n",
    "    X_train, X_test, y_train, y_test = get_train_and_test_data()\n",
    "    model = make_model(X_train, y_train)\n",
    "    if pickle:\n",
    "        pickler(model, 'model.pickle')\n",
    "    return model\n",
    "\n",
    "    \n",
    "def get_train_and_test_data():\n",
    "    '''\n",
    "    Returns testing and training data\n",
    "    '''\n",
    "    data = get_data()\n",
    "    return split_data(data)\n",
    "    \n",
    "    \n",
    "def get_data():\n",
    "    '''\n",
    "    Gets data from datafile and does some pruning.\n",
    "    Drops columns that worsen the model and agregates the charges columns (This helps the model)\n",
    "    \n",
    "    Returns\n",
    "    -------\n",
    "    Returns the data frame to be used in making the model\n",
    "    '''\n",
    "    df = pd.read_csv(file_name)\n",
    "    \n",
    "    df['international plan'] = (df['international plan'] == 'yes').astype(int)\n",
    "    df['voice mail plan'] = (df['voice mail plan'] == 'yes').astype(int)\n",
    "\n",
    "    df['total charge'] = df['total day charge'] + df['total eve charge'] + df['total intl charge'] + df['total night charge']\n",
    "    df = df.drop(['total day charge', 'total eve charge', 'total intl charge', 'total night charge'], axis = 1)\n",
    "    \n",
    "    df = df.drop(['area code', 'phone number', 'state'], axis = 1)\n",
    "    return df\n",
    "    \n",
    "    \n",
    "def split_data(data):\n",
    "    '''\n",
    "    Does a train test split on the passed in with churn as the target\n",
    "    \n",
    "    Parameters\n",
    "    ----------\n",
    "    data: churn data to be split\n",
    "    \n",
    "    Returns\n",
    "    -------\n",
    "    Training predictors, test predictor, training target, test target\n",
    "    '''\n",
    "    target = data['churn']\n",
    "    X = data.copy()\n",
    "    X = X.drop(['churn'], axis = 1)\n",
    "    return train_test_split(X, target, test_size = 0.30, random_state = 42)\n",
    "\n",
    "\n",
    "def make_model(X_train, y_train):\n",
    "    '''\n",
    "    fits and returns a stacking model based on the data passed in\n",
    "    '''\n",
    "    estimators = [('rf', RandomForestClassifier()),\n",
    "                  ('log', LogisticRegression(solver = 'liblinear')),\n",
    "                  ('grad', GradientBoostingClassifier())]\n",
    "    stack = StackingClassifier(estimators = estimators, final_estimator = LogisticRegression(), cv = 5)\n",
    "    stack.fit(X_train, y_train)\n",
    "    return stack    \n",
    "    \n",
    "\n",
    "def metrics(y_true, y_pred):\n",
    "    '''\n",
    "    returns some metrics\n",
    "    '''\n",
    "    metric_dictionary = {}\n",
    "    metric_dictionary['Accuracy'] = str(accuracy_score(y_true, y_pred))\n",
    "    metric_dictionary['Precision'] = str(precision_score(y_true, y_pred))\n",
    "    metric_dictionary['Recall'] = str(recall_score(y_true, y_pred))\n",
    "    metric_dictionary['F1'] = str(f1_score(y_true, y_pred))\n",
    "    metric_dictionary['confusion_matrix'] = confusion_matrix(y_true, y_pred)\n",
    "    return metric_dictionary    \n",
    "    \n",
    "    \n",
    "def pickler(model, file_name):\n",
    "    '''\n",
    "    turns a model into a pickle file\n",
    "    '''\n",
    "    output_file = open(file_name, 'wb')\n",
    "    pickle.dump(model, output_file)\n",
    "    output_file.close()\n",
    "\n",
    "    \n",
    "def read_pickle(file_name):\n",
    "    '''\n",
    "    reads a pickle file\n",
    "    '''\n",
    "    model_file = open(file_name, \"rb\")\n",
    "    model = pickle.load(model_file)\n",
    "    model_file.close()\n",
    "    return model"
   ]
  },
  {
   "cell_type": "code",
   "execution_count": 2,
   "metadata": {},
   "outputs": [],
   "source": [
    "model = pipeline(pickle = False)"
   ]
  },
  {
   "cell_type": "code",
   "execution_count": 3,
   "metadata": {},
   "outputs": [],
   "source": [
    "X_train, X_test, y_train, y_test = get_train_and_test_data()"
   ]
  },
  {
   "cell_type": "code",
   "execution_count": 4,
   "metadata": {},
   "outputs": [
    {
     "data": {
      "text/plain": [
       "{'Accuracy': '0.984',\n",
       " 'Precision': '1.0',\n",
       " 'Recall': '0.8881118881118881',\n",
       " 'F1': '0.9407407407407408',\n",
       " 'confusion_matrix': array([[857,   0],\n",
       "        [ 16, 127]])}"
      ]
     },
     "execution_count": 4,
     "metadata": {},
     "output_type": "execute_result"
    }
   ],
   "source": [
    "metrics(y_test, model.predict(X_test))"
   ]
  },
  {
   "cell_type": "code",
   "execution_count": 5,
   "metadata": {},
   "outputs": [
    {
     "ename": "NameError",
     "evalue": "name 'scaler' is not defined",
     "output_type": "error",
     "traceback": [
      "\u001b[0;31m---------------------------------------------------------------------------\u001b[0m",
      "\u001b[0;31mNameError\u001b[0m                                 Traceback (most recent call last)",
      "\u001b[0;32m<ipython-input-5-7ee8f3206f51>\u001b[0m in \u001b[0;36m<module>\u001b[0;34m\u001b[0m\n\u001b[0;32m----> 1\u001b[0;31m \u001b[0mmodel\u001b[0m\u001b[0;34m.\u001b[0m\u001b[0mestimators_\u001b[0m\u001b[0;34m[\u001b[0m\u001b[0;36m1\u001b[0m\u001b[0;34m]\u001b[0m\u001b[0;34m.\u001b[0m\u001b[0mpredict_proba\u001b[0m\u001b[0;34m(\u001b[0m\u001b[0mscaler\u001b[0m\u001b[0;34m.\u001b[0m\u001b[0mtransform\u001b[0m\u001b[0;34m(\u001b[0m\u001b[0mX_test\u001b[0m\u001b[0;34m)\u001b[0m\u001b[0;34m)\u001b[0m\u001b[0;34m\u001b[0m\u001b[0;34m\u001b[0m\u001b[0m\n\u001b[0m",
      "\u001b[0;31mNameError\u001b[0m: name 'scaler' is not defined"
     ]
    }
   ],
   "source": [
    "model.estimators_[1].predict_proba(scaler.transform(X_test))"
   ]
  },
  {
   "cell_type": "code",
   "execution_count": 6,
   "metadata": {},
   "outputs": [
    {
     "ename": "FileNotFoundError",
     "evalue": "[Errno 2] No such file or directory: 'model.pickle'",
     "output_type": "error",
     "traceback": [
      "\u001b[0;31m---------------------------------------------------------------------------\u001b[0m",
      "\u001b[0;31mFileNotFoundError\u001b[0m                         Traceback (most recent call last)",
      "\u001b[0;32m<ipython-input-6-712b19f2c797>\u001b[0m in \u001b[0;36m<module>\u001b[0;34m\u001b[0m\n\u001b[0;32m----> 1\u001b[0;31m \u001b[0mmodel\u001b[0m \u001b[0;34m=\u001b[0m \u001b[0mread_pickle\u001b[0m\u001b[0;34m(\u001b[0m\u001b[0;34m'model.pickle'\u001b[0m\u001b[0;34m)\u001b[0m\u001b[0;34m\u001b[0m\u001b[0;34m\u001b[0m\u001b[0m\n\u001b[0m",
      "\u001b[0;32m<ipython-input-1-7bd50a5b75bc>\u001b[0m in \u001b[0;36mread_pickle\u001b[0;34m(file_name)\u001b[0m\n\u001b[1;32m    104\u001b[0m     \u001b[0mreads\u001b[0m \u001b[0ma\u001b[0m \u001b[0mpickle\u001b[0m \u001b[0mfile\u001b[0m\u001b[0;34m\u001b[0m\u001b[0;34m\u001b[0m\u001b[0m\n\u001b[1;32m    105\u001b[0m     '''\n\u001b[0;32m--> 106\u001b[0;31m     \u001b[0mmodel_file\u001b[0m \u001b[0;34m=\u001b[0m \u001b[0mopen\u001b[0m\u001b[0;34m(\u001b[0m\u001b[0mfile_name\u001b[0m\u001b[0;34m,\u001b[0m \u001b[0;34m\"rb\"\u001b[0m\u001b[0;34m)\u001b[0m\u001b[0;34m\u001b[0m\u001b[0;34m\u001b[0m\u001b[0m\n\u001b[0m\u001b[1;32m    107\u001b[0m     \u001b[0mmodel\u001b[0m \u001b[0;34m=\u001b[0m \u001b[0mpickle\u001b[0m\u001b[0;34m.\u001b[0m\u001b[0mload\u001b[0m\u001b[0;34m(\u001b[0m\u001b[0mmodel_file\u001b[0m\u001b[0;34m)\u001b[0m\u001b[0;34m\u001b[0m\u001b[0;34m\u001b[0m\u001b[0m\n\u001b[1;32m    108\u001b[0m     \u001b[0mmodel_file\u001b[0m\u001b[0;34m.\u001b[0m\u001b[0mclose\u001b[0m\u001b[0;34m(\u001b[0m\u001b[0;34m)\u001b[0m\u001b[0;34m\u001b[0m\u001b[0;34m\u001b[0m\u001b[0m\n",
      "\u001b[0;31mFileNotFoundError\u001b[0m: [Errno 2] No such file or directory: 'model.pickle'"
     ]
    }
   ],
   "source": [
    "model = read_pickle('model.pickle')"
   ]
  },
  {
   "cell_type": "code",
   "execution_count": 7,
   "metadata": {},
   "outputs": [
    {
     "data": {
      "text/plain": [
       "2016    False\n",
       "1362    False\n",
       "2670    False\n",
       "2210     True\n",
       "1846    False\n",
       "        ...  \n",
       "1095    False\n",
       "1130    False\n",
       "1294    False\n",
       "860     False\n",
       "3174    False\n",
       "Name: churn, Length: 2333, dtype: bool"
      ]
     },
     "execution_count": 7,
     "metadata": {},
     "output_type": "execute_result"
    }
   ],
   "source": [
    "y_train"
   ]
  },
  {
   "cell_type": "code",
   "execution_count": 8,
   "metadata": {},
   "outputs": [],
   "source": [
    "df = pd.read_csv(file_name)"
   ]
  },
  {
   "cell_type": "code",
   "execution_count": 9,
   "metadata": {},
   "outputs": [
    {
     "data": {
      "text/html": [
       "<div>\n",
       "<style scoped>\n",
       "    .dataframe tbody tr th:only-of-type {\n",
       "        vertical-align: middle;\n",
       "    }\n",
       "\n",
       "    .dataframe tbody tr th {\n",
       "        vertical-align: top;\n",
       "    }\n",
       "\n",
       "    .dataframe thead th {\n",
       "        text-align: right;\n",
       "    }\n",
       "</style>\n",
       "<table border=\"1\" class=\"dataframe\">\n",
       "  <thead>\n",
       "    <tr style=\"text-align: right;\">\n",
       "      <th></th>\n",
       "      <th>account length</th>\n",
       "      <th>international plan</th>\n",
       "      <th>voice mail plan</th>\n",
       "      <th>number vmail messages</th>\n",
       "      <th>total day minutes</th>\n",
       "      <th>total day calls</th>\n",
       "      <th>total eve minutes</th>\n",
       "      <th>total eve calls</th>\n",
       "      <th>total night minutes</th>\n",
       "      <th>total night calls</th>\n",
       "      <th>total intl minutes</th>\n",
       "      <th>total intl calls</th>\n",
       "      <th>customer service calls</th>\n",
       "      <th>total charge</th>\n",
       "    </tr>\n",
       "  </thead>\n",
       "  <tbody>\n",
       "    <tr>\n",
       "      <th>9</th>\n",
       "      <td>141</td>\n",
       "      <td>1</td>\n",
       "      <td>1</td>\n",
       "      <td>37</td>\n",
       "      <td>258.6</td>\n",
       "      <td>84</td>\n",
       "      <td>222.0</td>\n",
       "      <td>111</td>\n",
       "      <td>326.4</td>\n",
       "      <td>97</td>\n",
       "      <td>11.2</td>\n",
       "      <td>5</td>\n",
       "      <td>0</td>\n",
       "      <td>80.54</td>\n",
       "    </tr>\n",
       "  </tbody>\n",
       "</table>\n",
       "</div>"
      ],
      "text/plain": [
       "   account length  international plan  voice mail plan  number vmail messages  \\\n",
       "9             141                   1                1                     37   \n",
       "\n",
       "   total day minutes  total day calls  total eve minutes  total eve calls  \\\n",
       "9              258.6               84              222.0              111   \n",
       "\n",
       "   total night minutes  total night calls  total intl minutes  \\\n",
       "9                326.4                 97                11.2   \n",
       "\n",
       "   total intl calls  customer service calls  total charge  \n",
       "9                 5                       0         80.54  "
      ]
     },
     "execution_count": 9,
     "metadata": {},
     "output_type": "execute_result"
    }
   ],
   "source": [
    "(get_data().head(10).tail(1).drop(['churn'], axis = 1))"
   ]
  },
  {
   "cell_type": "code",
   "execution_count": 10,
   "metadata": {},
   "outputs": [
    {
     "data": {
      "text/html": [
       "<div>\n",
       "<style scoped>\n",
       "    .dataframe tbody tr th:only-of-type {\n",
       "        vertical-align: middle;\n",
       "    }\n",
       "\n",
       "    .dataframe tbody tr th {\n",
       "        vertical-align: top;\n",
       "    }\n",
       "\n",
       "    .dataframe thead th {\n",
       "        text-align: right;\n",
       "    }\n",
       "</style>\n",
       "<table border=\"1\" class=\"dataframe\">\n",
       "  <thead>\n",
       "    <tr style=\"text-align: right;\">\n",
       "      <th></th>\n",
       "      <th>a</th>\n",
       "      <th>b</th>\n",
       "      <th>c</th>\n",
       "    </tr>\n",
       "  </thead>\n",
       "  <tbody>\n",
       "    <tr>\n",
       "      <th>0</th>\n",
       "      <td>1</td>\n",
       "      <td>2</td>\n",
       "      <td>3</td>\n",
       "    </tr>\n",
       "  </tbody>\n",
       "</table>\n",
       "</div>"
      ],
      "text/plain": [
       "   a  b  c\n",
       "0  1  2  3"
      ]
     },
     "execution_count": 10,
     "metadata": {},
     "output_type": "execute_result"
    }
   ],
   "source": [
    "pd.DataFrame([[1,2,3]], columns = ['a','b','c'])"
   ]
  },
  {
   "cell_type": "code",
   "execution_count": 11,
   "metadata": {},
   "outputs": [
    {
     "data": {
      "text/html": [
       "<div>\n",
       "<style scoped>\n",
       "    .dataframe tbody tr th:only-of-type {\n",
       "        vertical-align: middle;\n",
       "    }\n",
       "\n",
       "    .dataframe tbody tr th {\n",
       "        vertical-align: top;\n",
       "    }\n",
       "\n",
       "    .dataframe thead th {\n",
       "        text-align: right;\n",
       "    }\n",
       "</style>\n",
       "<table border=\"1\" class=\"dataframe\">\n",
       "  <thead>\n",
       "    <tr style=\"text-align: right;\">\n",
       "      <th></th>\n",
       "      <th>account length</th>\n",
       "      <th>international plan</th>\n",
       "      <th>voice mail plan</th>\n",
       "      <th>number vmail messages</th>\n",
       "      <th>total day minutes</th>\n",
       "      <th>total day calls</th>\n",
       "      <th>total eve minutes</th>\n",
       "      <th>total eve calls</th>\n",
       "      <th>total night minutes</th>\n",
       "      <th>total night calls</th>\n",
       "      <th>total intl minutes</th>\n",
       "      <th>total intl calls</th>\n",
       "      <th>customer service calls</th>\n",
       "      <th>total charge</th>\n",
       "    </tr>\n",
       "  </thead>\n",
       "  <tbody>\n",
       "    <tr>\n",
       "      <th>2016</th>\n",
       "      <td>80</td>\n",
       "      <td>0</td>\n",
       "      <td>0</td>\n",
       "      <td>0</td>\n",
       "      <td>202.4</td>\n",
       "      <td>118</td>\n",
       "      <td>260.2</td>\n",
       "      <td>67</td>\n",
       "      <td>177.4</td>\n",
       "      <td>112</td>\n",
       "      <td>9.2</td>\n",
       "      <td>5</td>\n",
       "      <td>3</td>\n",
       "      <td>66.99</td>\n",
       "    </tr>\n",
       "  </tbody>\n",
       "</table>\n",
       "</div>"
      ],
      "text/plain": [
       "      account length  international plan  voice mail plan  \\\n",
       "2016              80                   0                0   \n",
       "\n",
       "      number vmail messages  total day minutes  total day calls  \\\n",
       "2016                      0              202.4              118   \n",
       "\n",
       "      total eve minutes  total eve calls  total night minutes  \\\n",
       "2016              260.2               67                177.4   \n",
       "\n",
       "      total night calls  total intl minutes  total intl calls  \\\n",
       "2016                112                 9.2                 5   \n",
       "\n",
       "      customer service calls  total charge  \n",
       "2016                       3         66.99  "
      ]
     },
     "execution_count": 11,
     "metadata": {},
     "output_type": "execute_result"
    }
   ],
   "source": [
    "X_train.head(1)"
   ]
  },
  {
   "cell_type": "code",
   "execution_count": 12,
   "metadata": {},
   "outputs": [
    {
     "data": {
      "text/plain": [
       "dtype('bool')"
      ]
     },
     "execution_count": 12,
     "metadata": {},
     "output_type": "execute_result"
    }
   ],
   "source": [
    "df.head(1)['churn'].dtype"
   ]
  },
  {
   "cell_type": "markdown",
   "metadata": {},
   "source": [
    "Index(['account length', 'international plan', 'voice mail plan', 'number vmail messages', 'total day minutes', 'total day calls', 'total eve minutes', 'total eve calls', 'total night minutes', 'total night calls', 'total intl minutes', 'total intl calls', 'customer service calls', 'churn', 'total charge'], dtype='object')"
   ]
  },
  {
   "cell_type": "code",
   "execution_count": null,
   "metadata": {},
   "outputs": [],
   "source": []
  }
 ],
 "metadata": {
  "kernelspec": {
   "display_name": "Python (customerchurn)",
   "language": "python",
   "name": "customerchurn"
  },
  "language_info": {
   "codemirror_mode": {
    "name": "ipython",
    "version": 3
   },
   "file_extension": ".py",
   "mimetype": "text/x-python",
   "name": "python",
   "nbconvert_exporter": "python",
   "pygments_lexer": "ipython3",
   "version": "3.8.2"
  }
 },
 "nbformat": 4,
 "nbformat_minor": 4
}
