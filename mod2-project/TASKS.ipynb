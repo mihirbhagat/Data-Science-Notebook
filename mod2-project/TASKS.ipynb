{
 "cells": [
  {
   "cell_type": "markdown",
   "metadata": {},
   "source": [
    "## DELIVERABLES\n",
    "\n",
    "<span style='color:Orange'> [REFACTORING] </span>    \n",
    "3. <span style='color:Blue'> [TO DO] </span> A standalone `src/` directory that stores all relevant source code.\n",
    "    - All functions have docstrings that act as [professional-quality documentation](http://google.github.io/styleguide/pyguide.html#381-docstrings). \n",
    "    - If applicable, [well documented](https://www.sqlstyle.guide/) SQL queries with appropriate single-line or multiline comments.\n",
    "    - Quality linear regression model\n",
    "       - Your model should avoid violating any of the assumptions of a linear regression\n",
    "       - Whenever necessary, briefly explain in comments the changes made from one iteration to the next, and why you made these choices\n",
    "4. <span style='color:Blue'> [TO DO: 2019 csv] </span> A standalone `data/` directory that stores all relevant raw and processed data files\n",
    "    - **Be sure to include how the data was obtained!**\n",
    "    - All large files are labeled in the `.gitignore` file to avoid having them accidentally live in your commit history.\n",
    "9. <span style='color:Blue'> [TO DO] </span> One final Jupyter Notebook file stored in `notebooks/report` that focuses on visualization and presentation\n",
    "    - The very beginning of the notebook contains a description of the purpose of the notebook.\n",
    "       - This is helpful for your future self and anyone of your colleagues that needs to view your notebook. Without this context, you’re implicitly asking your peers to invest a lot of energy to help solve your problem. Help them to jump into your project by providing them the purpose of this Jupyter Notebook.\n",
    "    - Explanation of the data sources and where one can retrieve them\n",
    "       - Whenever possible, link to the corresponding data dictionary\n",
    "    - Custom functions and classes are imported from Python modules and are not created directly in the notebook. As soon as you have a working function in one of your exploratory notebooks, copy it over to `src` so it is reusable.\n",
    "    - At least 4 meaningful data visualizations, with corresponding interpretations. All visualizations are well labeled with axes labels, a title, and a legend (when appropriate)\n",
    "    - Take the time to make sure that you craft your story well, and clearly explain your process and findings in a way that clearly shows both your technical expertise and your ability to communicate your results!\n",
    "\n",
    "\n",
    "<span style='color:Purple'> [ANALYSIS AND PRESENTATION] </span>    \n",
    "6. <span style='color:Blue'> [TO DO] </span> A standalone `reports/` directory that stores your `memo.md` and `presentation.pdf` files\n",
    "8. <span style='color:Blue'> [TO DO] </span> A user-focused `README.md` file that briefly covers your process, methodology and findings.\n",
    "    - Someone with no context on your project should be able to use this document to understand the structure of your project, and adapt your code for their needs.\n",
    "10. <span style='color:Blue'> [TO DO] </span> A one-page memo stored in `reports/memo.md` written exclusively for a non-technical stakeholder.\n",
    "    - This memo should describe:\n",
    "       - A summary of the business problem you are trying to solve\n",
    "       - Key takeaways from your solution\n",
    "       - A section on next steps if you had more time (i.e. one additional week)\n",
    "11. <span style='color:Blue'> [TO DO] </span> An \"Executive Summary\" Keynote/PowerPoint/Google Slide presentation (delivered as a PDF export) that explains what you have found.\n",
    "    - Make sure to also add and commit this file as presentation.pdf of your non-technical presentation to your repository with a file name of `reports/presentation.pdf`.\n",
    "    - Contain between 5-10 professional quality slides detailing:\n",
    "       - A high-level overview of your methodology\n",
    "       - The results you’ve uncovered\n",
    "       - Any real-world recommendations you would like to make based on your findings (ask yourself--why should the executive team care about what you found? How can your findings help the company/stakeholder?)\n",
    "       - Avoid technical jargon and explain results in a clear, actionable way for non-technical audiences.\n",
    "    - The slides should use visualizations whenever possible, and avoid walls of text\n",
    "    - All visualizations included in this presentation should also be exported as image files (e.g. with `plt.savefig`, not by taking a screenshot) and saved under `reports/figures/`\n",
    "\n",
    "\n",
    "<span style='color:Orange'> [REDO AT THE END] </span>    \n",
    "2. <span style='color:Orange'> [DONE] </span> An `environment.yml` file that contains all the necessary packages needed to recreate your `linreg-env` conda environment.\n",
    "    - Unlike Mod 1, we haven't not given you an `environment.yml` file. Be sure to refer [to the documentation](https://docs.conda.io/projects/conda/en/latest/user-guide/tasks/manage-environments.html) to learn how to create and export the `linreg-env` conda environment.\n",
    "7. <span style='color:Orange'> [DONE] </span> A standalone `notebooks/` directory that stores both your exploratory and report notebooks\n",
    "    - A record of your workflow should be stored in `notebooks/exploratory`. Don't be afraid to leave in error messages, so you know what didn't work!\n",
    "\n",
    "    \n",
    "<span style='color:Green'> [DONE] </span>\n",
    "1. <span style='color:Blue'> [DONE] </span> A public GitHub repository.\n",
    "5. <span style='color:Blue'> [DONE] </span> A standalone `references/` directory that stores all relevant literature, data dictionaries, or useful references that were used to help you during the project.\n",
    "    - Use this directory to store physical copies of the `.pdf` files; or\n",
    "    - Create a `README.md` file that cites external resources that were used.\n"
   ]
  },
  {
   "cell_type": "code",
   "execution_count": null,
   "metadata": {},
   "outputs": [],
   "source": []
  }
 ],
 "metadata": {
  "kernelspec": {
   "display_name": "Python 3",
   "language": "python",
   "name": "python3"
  },
  "language_info": {
   "codemirror_mode": {
    "name": "ipython",
    "version": 3
   },
   "file_extension": ".py",
   "mimetype": "text/x-python",
   "name": "python",
   "nbconvert_exporter": "python",
   "pygments_lexer": "ipython3",
   "version": "3.7.4"
  }
 },
 "nbformat": 4,
 "nbformat_minor": 4
}
