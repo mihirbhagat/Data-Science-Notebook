{
 "cells": [
  {
   "cell_type": "code",
   "execution_count": 13,
   "metadata": {},
   "outputs": [],
   "source": [
    "import pandas as pd\n",
    "import pandasql as ps\n",
    "import numpy as np\n",
    "\n",
    "import matplotlib.pyplot as plt\n",
    "import seaborn as sns\n",
    "\n",
    "import statsmodels.api as sm\n",
    "from statsmodels.formula.api import ols\n",
    "from statsmodels.stats.diagnostic import linear_rainbow, het_breuschpagan\n",
    "from statsmodels.stats.outliers_influence import variance_inflation_factor\n",
    "from statsmodels.stats.stattools import jarque_bera\n",
    "\n",
    "from sklearn.preprocessing import LabelEncoder"
   ]
  },
  {
   "cell_type": "code",
   "execution_count": 3,
   "metadata": {},
   "outputs": [
    {
     "name": "stderr",
     "output_type": "stream",
     "text": [
      "/opt/anaconda3/lib/python3.7/site-packages/IPython/core/interactiveshell.py:3058: DtypeWarning: Columns (1,2) have mixed types. Specify dtype option on import or set low_memory=False.\n",
      "  interactivity=interactivity, compiler=compiler, result=result)\n",
      "/opt/anaconda3/lib/python3.7/site-packages/IPython/core/interactiveshell.py:3058: DtypeWarning: Columns (11) have mixed types. Specify dtype option on import or set low_memory=False.\n",
      "  interactivity=interactivity, compiler=compiler, result=result)\n"
     ]
    }
   ],
   "source": [
    "# import data\n",
    "\n",
    "df_sales = pd.read_csv('../../src/data/EXTR_RPSale.csv')\n",
    "df_res = pd.read_csv('../../src/data/EXTR_ResBldg.csv')\n",
    "df_lookup = pd.read_csv('../../src/data/EXTR_LookUp.csv')\n",
    "df_parcel = pd.read_csv('../../src/data/EXTR_Parcel.csv', encoding='latin-1')"
   ]
  },
  {
   "cell_type": "code",
   "execution_count": 4,
   "metadata": {},
   "outputs": [],
   "source": [
    "#Create 'Year' and 'MajorMinor' columns in df_sales\n",
    "\n",
    "df_sales['year'] = pd.DatetimeIndex(df_sales['DocumentDate']).year\n",
    "df_sales['Major'] = df_sales['Major'].astype(str)\n",
    "df_sales['Minor'] = df_sales['Minor'].astype(str)\n",
    "df_sales['MajorMinor'] = df_sales['Major'] + '-' + df_sales['Minor']"
   ]
  },
  {
   "cell_type": "code",
   "execution_count": 5,
   "metadata": {},
   "outputs": [],
   "source": [
    "#Filter for 2019 \n",
    "\n",
    "df_sales_19 = df_sales[df_sales['year']==2019]"
   ]
  },
  {
   "cell_type": "code",
   "execution_count": 6,
   "metadata": {},
   "outputs": [],
   "source": [
    "#Filter for PropertyType and SalePrice \n",
    "\n",
    "q1 = (\"\"\"SELECT * FROM df_sales_19\n",
    "WHERE (PropertyType = 11 or PropertyType = 12 or PropertyType = 13 or PropertyType = 14) and SalePrice > 0\n",
    "\"\"\")\n",
    "\n",
    "df_sales_19 = ps.sqldf(q1)"
   ]
  },
  {
   "cell_type": "code",
   "execution_count": 7,
   "metadata": {},
   "outputs": [],
   "source": [
    "#Create'MajorMinor' columns in df_res\n",
    "\n",
    "df_res['Major'] = df_res['Major'].astype(str)\n",
    "df_res['Minor'] = df_res['Minor'].astype(str)\n",
    "df_res['MajorMinor'] = df_res['Major'] + '-' + df_res['Minor']"
   ]
  },
  {
   "cell_type": "code",
   "execution_count": 8,
   "metadata": {},
   "outputs": [],
   "source": [
    "#Create'MajorMinor' columns in df_parcel\n",
    "\n",
    "df_parcel['Major'] = df_parcel['Major'].astype(str)\n",
    "df_parcel['Minor'] = df_parcel['Minor'].astype(str)\n",
    "df_parcel['MajorMinor'] = df_parcel['Major'] + '-' + df_parcel['Minor']"
   ]
  },
  {
   "cell_type": "code",
   "execution_count": 9,
   "metadata": {},
   "outputs": [],
   "source": [
    "#Merge Sales and Parcel \n",
    "\n",
    "new_df = pd.merge(df_sales_19, df_parcel, how = 'left',on =['MajorMinor'])"
   ]
  },
  {
   "cell_type": "code",
   "execution_count": 10,
   "metadata": {},
   "outputs": [],
   "source": [
    "#Merge the merged DF with Res \n",
    "\n",
    "final_df = pd.merge(new_df, df_res, how = 'left',on =['MajorMinor'])"
   ]
  },
  {
   "cell_type": "code",
   "execution_count": 11,
   "metadata": {},
   "outputs": [],
   "source": [
    "#Create a waterfront column \n",
    "\n",
    "final_df['has_waterfront'] = final_df['WfntLocation'] > 0"
   ]
  },
  {
   "cell_type": "code",
   "execution_count": 12,
   "metadata": {},
   "outputs": [
    {
     "data": {
      "text/plain": [
       "Index(['ExciseTaxNbr', 'Major_x', 'Minor_x', 'DocumentDate', 'SalePrice',\n",
       "       'RecordingNbr', 'Volume', 'Page', 'PlatNbr', 'PlatType',\n",
       "       ...\n",
       "       'FpFreestanding', 'FpAdditional', 'YrBuilt', 'YrRenovated',\n",
       "       'PcntComplete', 'Obsolescence', 'PcntNetCondition', 'Condition',\n",
       "       'AddnlCost', 'has_waterfront'],\n",
       "      dtype='object', length=158)"
      ]
     },
     "execution_count": 12,
     "metadata": {},
     "output_type": "execute_result"
    }
   ],
   "source": [
    "final_df.columns"
   ]
  },
  {
   "cell_type": "code",
   "execution_count": null,
   "metadata": {},
   "outputs": [],
   "source": [
    "# overall model fit summary\n",
    "sm.ols(<>).fit().rsquared # R^2\n",
    "sm.ols(<>).fit().rsquared_adj # Adj. R^2\n",
    "sm.ols(<>).fit().fvalue # F-statistic\n",
    "sm.ols(<>).fit().f_pvalue # Prob(F-statistic)/p-value\n",
    "\n",
    "# linearity\n",
    "rainbow_statistic, rainbow_p_value = linear_rainbow(<MODEL>)\n",
    "\n",
    "y = MODEL_df[\"SalePrice\"]\n",
    "y_hat = <MODEL>.predict()\n",
    "\n",
    "# homoscedasticity; Breusch Pagan test\n",
    "lm, lm_p_value, fvalue, f_p_value = het_breuschpagan(y-y_hat, df['Factor'])\n",
    "# normality\n",
    "jb, jbpv = jarque_bera(y-y_hat)\n",
    "\n"
   ]
  }
 ],
 "metadata": {
  "kernelspec": {
   "display_name": "Python 3",
   "language": "python",
   "name": "python3"
  },
  "language_info": {
   "codemirror_mode": {
    "name": "ipython",
    "version": 3
   },
   "file_extension": ".py",
   "mimetype": "text/x-python",
   "name": "python",
   "nbconvert_exporter": "python",
   "pygments_lexer": "ipython3",
   "version": "3.7.6"
  }
 },
 "nbformat": 4,
 "nbformat_minor": 4
}
