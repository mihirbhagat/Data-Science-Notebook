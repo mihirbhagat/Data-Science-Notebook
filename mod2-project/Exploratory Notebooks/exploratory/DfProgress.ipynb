{
 "cells": [
  {
   "cell_type": "code",
   "execution_count": null,
   "metadata": {},
   "outputs": [],
   "source": [
    "# Loaded King County Property Sales Data\n",
    "#df = pd.read_csv(\"../src/data/EXTR_RPSale.csv\")"
   ]
  },
  {
   "cell_type": "code",
   "execution_count": null,
   "metadata": {},
   "outputs": [],
   "source": [
    "# Took documents from 2019\n",
    "# q1 = (\"\"\"\n",
    "# SELECT * \n",
    "# FROM df\n",
    "# WHERE DocumentDate like \"%2019\"\n",
    "# \"\"\")\n",
    "# df2019 =ps.sqldf(q1)"
   ]
  },
  {
   "cell_type": "code",
   "execution_count": null,
   "metadata": {},
   "outputs": [],
   "source": []
  }
 ],
 "metadata": {
  "kernelspec": {
   "display_name": "pyspark-env",
   "language": "python",
   "name": "pyspark-env"
  },
  "language_info": {
   "codemirror_mode": {
    "name": "ipython",
    "version": 3
   },
   "file_extension": ".py",
   "mimetype": "text/x-python",
   "name": "python",
   "nbconvert_exporter": "python",
   "pygments_lexer": "ipython3",
   "version": "3.7.4"
  }
 },
 "nbformat": 4,
 "nbformat_minor": 4
}
