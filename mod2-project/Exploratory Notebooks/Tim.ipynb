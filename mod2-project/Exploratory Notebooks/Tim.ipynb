{
 "cells": [
  {
   "cell_type": "code",
   "execution_count": 1,
   "metadata": {},
   "outputs": [],
   "source": [
    "import pandas as pd\n",
    "import pandasql as ps\n",
    "import numpy as np\n",
    "\n",
    "import matplotlib.pyplot as plt\n",
    "import seaborn as sns\n",
    "\n",
    "import statsmodels.api as sm\n",
    "from statsmodels.formula.api import ols\n",
    "from statsmodels.stats.diagnostic import linear_rainbow, het_breuschpagan\n",
    "from statsmodels.stats.outliers_influence import variance_inflation_factor\n",
    "from statsmodels.stats.stattools import jarque_bera\n",
    "\n",
    "from sklearn.preprocessing import LabelEncoder"
   ]
  },
  {
   "cell_type": "code",
   "execution_count": 2,
   "metadata": {},
   "outputs": [
    {
     "name": "stderr",
     "output_type": "stream",
     "text": [
      "/opt/anaconda3/lib/python3.7/site-packages/IPython/core/interactiveshell.py:3058: DtypeWarning: Columns (1,2) have mixed types. Specify dtype option on import or set low_memory=False.\n",
      "  interactivity=interactivity, compiler=compiler, result=result)\n"
     ]
    }
   ],
   "source": [
    "df = pd.read_csv(\"../src/data/EXTR_RPSale.csv\")"
   ]
  },
  {
   "cell_type": "code",
   "execution_count": 3,
   "metadata": {},
   "outputs": [],
   "source": [
    "q1 = (\"\"\"\n",
    "SELECT * \n",
    "FROM df\n",
    "WHERE DocumentDate like \"%2019\"\n",
    "\"\"\")\n",
    "df2019 =ps.sqldf(q1)"
   ]
  },
  {
   "cell_type": "code",
   "execution_count": null,
   "metadata": {},
   "outputs": [],
   "source": []
  },
  {
   "cell_type": "code",
   "execution_count": null,
   "metadata": {},
   "outputs": [],
   "source": [
    "# df2019.to_csv('../references/df2019',index=False)"
   ]
  },
  {
   "cell_type": "code",
   "execution_count": null,
   "metadata": {},
   "outputs": [],
   "source": [
    "df2019 = pd.read_csv(\"../references/df2019.csv\")\n",
    "df2019.head()"
   ]
  },
  {
   "cell_type": "code",
   "execution_count": null,
   "metadata": {},
   "outputs": [],
   "source": [
    "df = pd.read_csv(\"../src/data/EXTR_LookUp.csv\")\n",
    "list(df['LUDescription'][df['LUType']==1])"
   ]
  },
  {
   "cell_type": "code",
   "execution_count": null,
   "metadata": {},
   "outputs": [],
   "source": [
    "df[df['LUType']==1].head(8)"
   ]
  },
  {
   "cell_type": "code",
   "execution_count": null,
   "metadata": {},
   "outputs": [],
   "source": [
    "q2 = (\"\"\"\n",
    "SELECT * \n",
    "FROM df2019\n",
    "WHERE (PropertyType = 11 or PropertyType = 12 or PropertyType = 13 or PropertyType = 14) and SalePrice > 0\n",
    "\"\"\")\n",
    "dfresidence =ps.sqldf(q2)\n",
    "dfresidence"
   ]
  },
  {
   "cell_type": "code",
   "execution_count": null,
   "metadata": {},
   "outputs": [],
   "source": [
    "dfresidence.columns"
   ]
  },
  {
   "cell_type": "code",
   "execution_count": null,
   "metadata": {},
   "outputs": [],
   "source": [
    "dfresidence['MajorMinor'] = dfresidence ['Major'].astype(str)+'-'+dfresidence ['Minor'].astype(str)\n",
    "dfResBldg  = pd.read_csv(\"../src/data/EXTR_ResBldg.csv\", encoding='latin-1')"
   ]
  },
  {
   "cell_type": "code",
   "execution_count": null,
   "metadata": {},
   "outputs": [],
   "source": [
    "dfResBldg['MajorMinor'] =dfResBldg ['Major'].astype(str)+'-'+dfResBldg ['Minor'].astype(str)\n"
   ]
  },
  {
   "cell_type": "code",
   "execution_count": null,
   "metadata": {},
   "outputs": [],
   "source": [
    "df_final = pd.merge(dfresidence,dfResBldg,how='left', on = ['MajorMinor'])\n",
    "df_final.columns"
   ]
  },
  {
   "cell_type": "code",
   "execution_count": null,
   "metadata": {},
   "outputs": [],
   "source": [
    "df_final = df_final[['MajorMinor','SalePrice','PropertyType','NbrLivingUnits','Address','BuildingNumber','StreetName', 'StreetType','ZipCode','Stories','BldgGrade', 'BldgGradeVar', 'SqFt1stFloor', 'SqFtHalfFloor',\n",
    "       'SqFt2ndFloor', 'SqFtUpperFloor', 'SqFtUnfinFull',\n",
    "       'SqFtTotLiving', 'SqFtTotBasement', 'SqFtFinBasement',\n",
    "       'FinBasementGrade', 'SqFtGarageBasement', 'SqFtGarageAttached',\n",
    "       'DaylightBasement', 'SqFtOpenPorch', 'SqFtEnclosedPorch', 'SqFtDeck',\n",
    "       'HeatSystem', 'HeatSource', 'ViewUtilization', 'Bedrooms',\n",
    "       'BathHalfCount', 'Bath3qtrCount', 'BathFullCount', 'FpSingleStory',\n",
    "       'FpMultiStory', 'FpFreestanding', 'YrBuilt',\n",
    "       'YrRenovated','Condition']]"
   ]
  },
  {
   "cell_type": "code",
   "execution_count": null,
   "metadata": {},
   "outputs": [],
   "source": [
    "df_final"
   ]
  },
  {
   "cell_type": "code",
   "execution_count": null,
   "metadata": {},
   "outputs": [],
   "source": [
    "df_final = df_final.dropna(subset=['Address'])\n"
   ]
  },
  {
   "cell_type": "code",
   "execution_count": null,
   "metadata": {},
   "outputs": [],
   "source": [
    "corr = df_final.corr()\n",
    "mask = np.triu(np.ones_like(corr, dtype=np.bool))\n",
    "\n",
    "fig1, ax1 = plt.subplots(figsize=(11, 9))\n",
    "sns.heatmap(corr, mask=mask, ax=ax1)"
   ]
  },
  {
   "cell_type": "code",
   "execution_count": null,
   "metadata": {},
   "outputs": [],
   "source": [
    "dfParcel  = pd.read_csv(\"../src/data/EXTR_Parcel.csv\", encoding='latin-1')\n",
    "dfParcel['MajorMinor'] = dfParcel['Major'].astype(str)+'-'+dfParcel['Minor'].astype(str)\n",
    "dfParcel.columns"
   ]
  },
  {
   "cell_type": "code",
   "execution_count": null,
   "metadata": {},
   "outputs": [],
   "source": [
    "dfParcel = dfParcel[['MajorMinor','WfntLocation','SqFtLot','TrafficNoise', 'AirportNoise', 'PowerLines','OtherNuisances']]"
   ]
  },
  {
   "cell_type": "code",
   "execution_count": null,
   "metadata": {},
   "outputs": [],
   "source": [
    "dfAll = pd.merge(df_final,dfParcel,how='left', on = ['MajorMinor'])\n",
    "dfAll['WfntLocation'].describe()"
   ]
  },
  {
   "cell_type": "code",
   "execution_count": null,
   "metadata": {},
   "outputs": [],
   "source": [
    "dfAll.describe()"
   ]
  },
  {
   "cell_type": "code",
   "execution_count": null,
   "metadata": {},
   "outputs": [],
   "source": [
    "corr = dfAll.corr()\n",
    "mask = np.triu(np.ones_like(corr, dtype=np.bool))\n",
    "\n",
    "fig1, ax1 = plt.subplots(figsize=(11, 9))\n",
    "sns.heatmap(corr, mask=mask, ax=ax1);"
   ]
  },
  {
   "cell_type": "code",
   "execution_count": null,
   "metadata": {},
   "outputs": [],
   "source": [
    "dfAll.columns\n"
   ]
  },
  {
   "cell_type": "code",
   "execution_count": null,
   "metadata": {},
   "outputs": [],
   "source": [
    "# dfAll.to_csv('../references/dfAll.csv',index=False)"
   ]
  },
  {
   "cell_type": "code",
   "execution_count": null,
   "metadata": {},
   "outputs": [],
   "source": [
    "q3 = (\"\"\"\n",
    "SELECT *\n",
    "FROM dfAll\n",
    "WHERE YrRenovated = 2019\n",
    "\"\"\")\n",
    "ps.sqldf(q3)\n",
    "\n"
   ]
  },
  {
   "cell_type": "code",
   "execution_count": null,
   "metadata": {},
   "outputs": [],
   "source": [
    "ols(formula=\"SalePrice ~ SqFtTotLiving\", data=dfAll).fit().summary()\n"
   ]
  },
  {
   "cell_type": "code",
   "execution_count": null,
   "metadata": {},
   "outputs": [],
   "source": [
    "fsm_df = dfAll[['SalePrice','SqFtTotLiving']]\n",
    "fsm_df.dropna(inplace=True)"
   ]
  },
  {
   "cell_type": "code",
   "execution_count": null,
   "metadata": {},
   "outputs": [],
   "source": [
    "fsm = ols(formula=\"SalePrice ~ SqFtTotLiving\", data=fsm_df).fit()"
   ]
  },
  {
   "cell_type": "code",
   "execution_count": null,
   "metadata": {},
   "outputs": [],
   "source": [
    "fsm.summary()"
   ]
  },
  {
   "cell_type": "code",
   "execution_count": null,
   "metadata": {},
   "outputs": [],
   "source": [
    "qp = (\"\"\"\n",
    "SELECT SalePrice,\n",
    "CASE\n",
    "    WHEN SqFtOpenPorch > 0 OR SqFtEnclosedPorch > 0 OR SqFtDeck > 0 THEN 1\n",
    "    ELSE 0\n",
    "END AS porch\n",
    "FROM dfAll\n",
    "\"\"\")\n",
    "fsm2_df = ps.sqldf(qp)"
   ]
  },
  {
   "cell_type": "code",
   "execution_count": null,
   "metadata": {},
   "outputs": [],
   "source": [
    "fsm2_df"
   ]
  },
  {
   "cell_type": "code",
   "execution_count": null,
   "metadata": {},
   "outputs": [],
   "source": [
    "fsm2 = ols(formula=\"SalePrice ~ porch\", data=fsm2_df).fit()"
   ]
  },
  {
   "cell_type": "code",
   "execution_count": null,
   "metadata": {},
   "outputs": [],
   "source": [
    "fsm2.summary()"
   ]
  },
  {
   "cell_type": "code",
   "execution_count": null,
   "metadata": {},
   "outputs": [],
   "source": []
  },
  {
   "cell_type": "code",
   "execution_count": null,
   "metadata": {},
   "outputs": [],
   "source": [
    "qwf = (\"\"\"\n",
    "SELECT SalePrice,\n",
    "CASE\n",
    "    WHEN WfntLocation > 0 THEN 1\n",
    "    ELSE 0\n",
    "END as wfnt\n",
    "FROM dfAll\n",
    "\"\"\")\n",
    "fsm3_df = ps.sqldf(qwf)"
   ]
  },
  {
   "cell_type": "code",
   "execution_count": null,
   "metadata": {},
   "outputs": [],
   "source": []
  },
  {
   "cell_type": "code",
   "execution_count": null,
   "metadata": {},
   "outputs": [],
   "source": []
  },
  {
   "cell_type": "code",
   "execution_count": null,
   "metadata": {},
   "outputs": [],
   "source": [
    "fsm3_df['wfnt'].value_counts()"
   ]
  },
  {
   "cell_type": "code",
   "execution_count": null,
   "metadata": {},
   "outputs": [],
   "source": [
    "fsm3 = ols(formula=\"SalePrice ~ wfnt\", data=fsm3_df).fit()\n",
    "fsm3.summary()"
   ]
  },
  {
   "cell_type": "code",
   "execution_count": null,
   "metadata": {},
   "outputs": [],
   "source": [
    "qlp = (\"\"\"\n",
    "SELECT SalePrice, (SqFtTotLiving/SqFtLot) AS lot_proportion\n",
    "\n",
    "FROM dfAll\n",
    "\"\"\")\n",
    "lot_prop = ps.sqldf(qlp)\n",
    "lot_prop"
   ]
  },
  {
   "cell_type": "code",
   "execution_count": null,
   "metadata": {},
   "outputs": [],
   "source": [
    "qcs = (\"\"\"\n",
    "SELECT SalePrice, (SalePrice/SqFtTotLiving) AS cost_sqft\n",
    "FROM dfAll\n",
    "\"\"\")\n",
    "ps.sqldf(qcs)\n"
   ]
  },
  {
   "cell_type": "code",
   "execution_count": null,
   "metadata": {},
   "outputs": [],
   "source": [
    "qall = (\"\"\"\n",
    "SELECT SalePrice, SqFtTotLiving AS square_footage,\n",
    "CASE\n",
    "    WHEN SqFtOpenPorch > 0 OR SqFtEnclosedPorch > 0 OR SqFtDeck > 0 THEN 1\n",
    "    ELSE 0\n",
    "END AS has_porch,\n",
    "CASE\n",
    "    WHEN WfntLocation > 0 THEN 1\n",
    "    ELSE 0\n",
    "END as has_waterfront,\n",
    "(SqFtTotLiving/SqFtLot) AS lot_proportion,\n",
    "(SalePrice/SqFtTotLiving) AS cost_sqft,\n",
    "CASE \n",
    "    WHEN TrafficNoise > 0 OR AirportNoise > 0 OR PowerLines is 'Y' THEN 1\n",
    "    ELSE 0\n",
    "END AS has_nuisance\n",
    "\n",
    "FROM dfAll\n",
    "\"\"\")\n",
    "fsm_dfinal = ps.sqldf(qall)\n",
    "\n"
   ]
  },
  {
   "cell_type": "code",
   "execution_count": null,
   "metadata": {},
   "outputs": [],
   "source": [
    "fsm_dfinal.columns"
   ]
  },
  {
   "cell_type": "code",
   "execution_count": null,
   "metadata": {},
   "outputs": [],
   "source": [
    "#0 SalePrice\n",
    "#1 square_footage\n",
    "#2 has_porch\n",
    "#3 has_waterfront\n",
    "#4 lot_proportion\n",
    "#5 cost_sqft\n",
    "#6 has_nuisance"
   ]
  },
  {
   "cell_type": "code",
   "execution_count": null,
   "metadata": {},
   "outputs": [],
   "source": [
    "# 123\n",
    "fsm_123 = ols(formula=\"SalePrice ~ square_footage + has_porch + has_waterfront\", data=fsm_dfinal).fit()\n",
    "d_123 = fsm_dfinal[['square_footage', 'has_porch', 'has_waterfront']]\n",
    "# 124\n",
    "fsm_124 = ols(formula=\"SalePrice ~ square_footage + has_porch + lot_proportion\", data=fsm_dfinal).fit()\n",
    "d_124 = fsm_dfinal[['square_footage', 'has_porch', 'lot_proportion']]\n",
    "# 125\n",
    "fsm_125 = ols(formula=\"SalePrice ~ square_footage + has_porch + cost_sqft\", data=fsm_dfinal).fit()\n",
    "d_125 = fsm_dfinal[['square_footage', 'has_porch', 'cost_sqft']]\n",
    "# 126\n",
    "fsm_126 = ols(formula=\"SalePrice ~ square_footage + has_porch + has_nuisance\", data=fsm_dfinal).fit()\n",
    "d_126 = fsm_dfinal[['square_footage', 'has_porch', 'has_nuisance']]\n",
    "# 134\n",
    "fsm_134 = ols(formula=\"SalePrice ~ square_footage + has_waterfront + lot_proportion\", data=fsm_dfinal).fit()\n",
    "d_134 = fsm_dfinal[['square_footage', 'has_waterfront', 'lot_proportion']]\n",
    "# 135\n",
    "fsm_135 = ols(formula=\"SalePrice ~ square_footage + has_waterfront + cost_sqft\", data=fsm_dfinal).fit()\n",
    "d_135 = fsm_dfinal[['square_footage', 'has_waterfront', 'cost_sqft']]\n",
    "# 136\n",
    "fsm_136 = ols(formula=\"SalePrice ~ square_footage + has_waterfront + has_nuisance\", data=fsm_dfinal).fit()\n",
    "d_136 = fsm_dfinal[['square_footage', 'has_waterfront', 'has_nuisance']]\n",
    "# 145\n",
    "fsm_145 = ols(formula=\"SalePrice ~ square_footage + lot_proportion + cost_sqft\", data=fsm_dfinal).fit()\n",
    "d_145 = fsm_dfinal[['square_footage', 'lot_proportion', 'cost_sqft']]\n",
    "# 146\n",
    "fsm_146 = ols(formula=\"SalePrice ~ square_footage + lot_proportion + has_nuisance\", data=fsm_dfinal).fit()\n",
    "d_146 = fsm_dfinal[['square_footage', 'lot_proportion', 'has_nuisance']]\n",
    "# 156\n",
    "fsm_156 = ols(formula=\"SalePrice ~ square_footage + cost_sqft + has_nuisance\", data=fsm_dfinal).fit()\n",
    "d_156 = fsm_dfinal[['square_footage', 'cost_sqft', 'has_nuisance']]\n",
    "# 234\n",
    "fsm_234 = ols(formula=\"SalePrice ~ has_porch + has_waterfront + lot_proportion\", data=fsm_dfinal).fit()\n",
    "d_234 = fsm_dfinal[['has_porch', 'has_waterfront', 'lot_proportion']]\n",
    "# 235\n",
    "fsm_235 = ols(formula=\"SalePrice ~ has_porch + has_waterfront + cost_sqft\", data=fsm_dfinal).fit()\n",
    "d_235 = fsm_dfinal[['has_porch', 'has_waterfront', 'cost_sqft']]\n",
    "# 236\n",
    "fsm_236 = ols(formula=\"SalePrice ~ has_porch + has_waterfront + has_nuisance\", data=fsm_dfinal).fit()\n",
    "d_236 = fsm_dfinal[['has_porch', 'has_waterfront', 'has_nuisance']]\n",
    "# 245\n",
    "fsm_245 = ols(formula=\"SalePrice ~ has_porch + lot_proportion + cost_sqft\", data=fsm_dfinal).fit()\n",
    "d_245 = fsm_dfinal[['has_porch', 'lot_proportion', 'cost_sqft']]\n",
    "\n",
    "\n",
    "fsm_246 = ols(formula=\"SalePrice ~ has_porch + lot_proportion + has_nuisance\", data=fsm_dfinal).fit()\n",
    "d_246 = fsm_dfinal[['has_porch', 'lot_proportion', 'has_nuisance']]\n",
    "#R^2 = 0.028\n",
    "fsm_256 = ols(formula=\"SalePrice ~ has_porch + cost_sqft + has_nuisance\", data=fsm_dfinal).fit()\n",
    "d_256 = fsm_dfinal[['has_porch', 'cost_sqft', 'has_nuisance']]\n",
    "#R^2 = 0.271\n",
    "fsm_345 = ols(formula=\"SalePrice ~ has_waterfront + lot_proportion + cost_sqft\", data=fsm_dfinal).fit()\n",
    "d_345 = fsm_dfinal[['has_waterfront', 'lot_proportion', 'cost_sqft']]\n",
    "#R^2 = 0.289\n",
    "fsm_346 = ols(formula=\"SalePrice ~ has_waterfront + lot_proportion + has_nuisance\", data=fsm_dfinal).fit()\n",
    "d_346 = fsm_dfinal[['has_waterfront', 'lot_proportion', 'has_nuisance']]\n",
    "#R^2 = 0.107\n",
    "fsm_356 = ols(formula=\"SalePrice ~ has_waterfront + cost_sqft + has_nuisance\", data=fsm_dfinal).fit()\n",
    "d_356 = fsm_dfinal[['has_waterfront', 'cost_sqft', 'has_nuisance']]\n",
    "#R^2 = 0.281\n",
    "fsm_456 = ols(formula=\"SalePrice ~ lot_proportion + cost_sqft + has_nuisance\", data=fsm_dfinal).fit()\n",
    "d_456 = fsm_dfinal[['lot_proportion', 'cost_sqft', 'has_nuisance']]\n",
    "#R^2 = 0.246"
   ]
  },
  {
   "cell_type": "code",
   "execution_count": null,
   "metadata": {},
   "outputs": [],
   "source": []
  },
  {
   "cell_type": "code",
   "execution_count": null,
   "metadata": {},
   "outputs": [],
   "source": [
    "# OLS Regression\n",
    "def olsreg(fsm):\n",
    "    return (fsm).summary()"
   ]
  },
  {
   "cell_type": "code",
   "execution_count": null,
   "metadata": {},
   "outputs": [],
   "source": [
    "olsreg(fsm_345)"
   ]
  },
  {
   "cell_type": "code",
   "execution_count": null,
   "metadata": {},
   "outputs": [],
   "source": [
    "# Linearity \n",
    "def rainbow(fsm):\n",
    "    rainbow_statistic, rainbow_p_value = linear_rainbow(fsm)\n",
    "    print(\"Rainbow statistic:\", rainbow_statistic)\n",
    "    print(\"Rainbow p-value:\", rainbow_p_value)"
   ]
  },
  {
   "cell_type": "code",
   "execution_count": null,
   "metadata": {},
   "outputs": [],
   "source": [
    "rainbow(fsm_345)"
   ]
  },
  {
   "cell_type": "code",
   "execution_count": null,
   "metadata": {},
   "outputs": [],
   "source": [
    "# overall model fit summary\n",
    "def overallmodfit(fsm,d):\n",
    "    print(\"R^2: \" ,fsm.rsquared) # R^2\n",
    "    print(\"Adj. R^2: \",fsm.rsquared_adj) # Adj. R^2\n",
    "    print(\"F-statistic: \",fsm.fvalue) # F-statistic\n",
    "    print(\"Prob(F-statistic)/p-value: \",fsm.f_pvalue) # Prob(F-statistic)/p-value\n",
    "    print('linearity')\n",
    "    rainbow_statistic, rainbow_p_value = linear_rainbow(fsm)\n",
    "    print(\"Rainbow statistic:\", rainbow_statistic)\n",
    "    print(\"Rainbow p-value:\", rainbow_p_value)\n",
    "    y = fsm_dfinal['SalePrice']\n",
    "    y_hat = fsm_246.predict()\n",
    "    print('homoscedasticity: Breusch Pagan test')\n",
    "    lm, lm_p_value, fvalue, f_p_value = het_breuschpagan(y-y_hat, d)\n",
    "    print(\"Lagrange Multiplier p-value:\", lm_p_value)\n",
    "    print(\"F-statistic p-value:\", f_p_value)\n",
    "    print('normality')\n",
    "    jb, jbpv, skew, kurtosis = jarque_bera(y-y_hat)\n",
    "    print('jarque_bera: ',jb)\n",
    "    print('jarque_bera p-value: ',jbpv)"
   ]
  },
  {
   "cell_type": "code",
   "execution_count": null,
   "metadata": {},
   "outputs": [],
   "source": [
    "overallmodfit(fsm_124,d_124)"
   ]
  },
  {
   "cell_type": "code",
   "execution_count": null,
   "metadata": {},
   "outputs": [],
   "source": []
  },
  {
   "cell_type": "code",
   "execution_count": null,
   "metadata": {},
   "outputs": [],
   "source": []
  },
  {
   "cell_type": "code",
   "execution_count": null,
   "metadata": {},
   "outputs": [],
   "source": []
  },
  {
   "cell_type": "code",
   "execution_count": null,
   "metadata": {},
   "outputs": [],
   "source": []
  }
 ],
 "metadata": {
  "file_extension": ".py",
  "kernelspec": {
   "display_name": "Python 3",
   "language": "python",
   "name": "python3"
  },
  "language_info": {
   "codemirror_mode": {
    "name": "ipython",
    "version": 3
   },
   "file_extension": ".py",
   "mimetype": "text/x-python",
   "name": "python",
   "nbconvert_exporter": "python",
   "pygments_lexer": "ipython3",
   "version": "3.7.6"
  },
  "mimetype": "text/x-python",
  "name": "python",
  "npconvert_exporter": "python",
  "pygments_lexer": "ipython3",
  "version": 3
 },
 "nbformat": 4,
 "nbformat_minor": 4
}
